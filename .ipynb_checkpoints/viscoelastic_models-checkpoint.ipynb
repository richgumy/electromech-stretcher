{
 "cells": [
  {
   "cell_type": "markdown",
   "metadata": {},
   "source": [
    "# Viscoelasticity\n",
    "\n",
    "FILE: viscoelastic_models.ipynb\n",
    "\n",
    "AUTHOR: R Ellingham\n",
    "\n",
    "DATE: Nov 2020\n",
    "\n",
    "PROGRAM DESC: \n",
    "This document looks at the basic theory behind viscoelasticity, with the intention of using this theory to model a carbon-black silicone rubber comoposite. The document will be broken down into sections:\n",
    "\n",
    "TODO:\n",
    "* ...\n",
    "* ...\n",
    "\n",
    "*Part 1*\n",
    "* General overview of viscoelasticity\n",
    "* Maxwell models\n",
    "* Kelvin-Voight models\n",
    "* Generalised viscoelastic constitutive models\n",
    "* Quasi-linear viscoelastic model\n",
    "* How to fit these models to experimental data\n",
    "\n",
    "*Part 2*\n",
    "* Macro vs. micro modelling of viscoelasticity\n",
    "\n",
    "*Part 3*\n",
    "* Percolation modelling\n",
    "* Composite resistivity modelling"
   ]
  },
  {
   "cell_type": "code",
   "execution_count": 3,
   "metadata": {},
   "outputs": [],
   "source": [
    "## import libraries\n",
    "import csv\n",
    "import matplotlib.pyplot as plt\n",
    "from mpl_toolkits.mplot3d import Axes3D\n",
    "from matplotlib.ticker import MaxNLocator\n",
    "from matplotlib import cm # colour map\n",
    "import numpy as np\n",
    "from scipy import optimize"
   ]
  },
  {
   "cell_type": "markdown",
   "metadata": {},
   "source": [
    "## General overview\n",
    "\n",
    "A viscoelastic material displays a loss of energy when ungoing a stress loading and unloading condition. This loss of energy is due to the damping (or viscous) properties of the material as opposed to an ideal elastic material which stores the strain energy as elastic energy. \n",
    "\n",
    "<img src=\"pics\\stress-strain-hysteresis-curve.PNG\" width=400>\n",
    "\n",
    "This viscoelastiv behavious is desriable for use in systems which require damping and shock absorption, such as in car suspension systems, shipping packing materials and running shoes.\n",
    "\n",
    "There are two key characteristics of viscoelastic materials, stress relaxation and strain creep.\n",
    "\n",
    "*Stress relaxation* and *Strain creep* are the time dependent stress and strain responses to a step input of strain and stress on a material, respectively.\n",
    "\n",
    "<figure>\n",
    "  <img src=\"pics\\relaxation-sketch.PNG\" width=300>\n",
    "  <figcaption>Stress relaxation curve</figcaption>\n",
    "  <img src=\"pics\\creep-sketch.PNG\" width=300>\n",
    "  <figcaption>Strain creep curve</figcaption>\n",
    "</figure>"
   ]
  },
  {
   "cell_type": "markdown",
   "metadata": {},
   "source": [
    "# Maxwell Model #\n",
    "<figure>\n",
    "  <img src=\"pics\\maxwell-sketch.png\" width=300>\n",
    "  <figcaption>Mechanical representation of the Maxwell model of a viscoelastic material with spring constant, $E$ and damping factor $\\mu$ in serial configuration</figcaption>\n",
    "</figure>\n",
    "\n",
    "\\begin{equation*}\n",
    "\\dot{u}(t)=\\frac{\\dot{F_s}(t)}{E}+\\frac{F_d(t)}{\\mu} \\newline\n",
    "\\therefore q_1\\dot{\\varepsilon} = p_0\\dot{\\sigma}+p_1\\sigma\n",
    "\\end{equation*}\n",
    "\n",
    "Where $u(t)$, $F_s$ and $F_d$ are the overall stretch, spring force, and dashpot force respectively. $q_1, p_0, and p_1$ are all constants relating to the elasticity and damping parameters of the material.\n",
    "\n",
    "\\begin{equation*}\n",
    "q_1 = 1 \\rightarrow Dim = 1 \\newline\n",
    "p_1 = \\frac{1}{\\mu} \\rightarrow Dim = \\frac{[m]}{[N][s]} \\newline\n",
    "p_0 = \\frac{1}{E} \\rightarrow Dim = \\frac{[m]}{[N]}\n",
    "\\end{equation*}\n"
   ]
  },
  {
   "cell_type": "markdown",
   "metadata": {},
   "source": [
    "## Stress relaxation ##\n",
    "\n",
    "For a constant strain step input the general dynamic Maxwell equation becomes:\n",
    "\n",
    "\\begin{equation*}\n",
    "0 = \\dot{\\sigma} + \\frac{p_1}{p_0}\\sigma\n",
    "\\end{equation*}\n",
    "\n",
    "The solution for this $1^{st}$ order ODE is:\n",
    "\n",
    "\\begin{equation*}\n",
    "\\sigma = C_1e^{-\\frac{p_1}{p_0}t}\n",
    "\\end{equation*}\n",
    "\n",
    "To solve for $C_1$ we integrate equation (1) from $t=0^-$ to $t=0^+$ and obtain:\n",
    "\n",
    "\\begin{equation*}\n",
    "\\sigma(t=0) = \\sigma_0 = C_1 = \\frac{q_1}{p_0}\\varepsilon_0 = E\\varepsilon_0 \\newline\n",
    "\\therefore \\sigma(t) = E\\varepsilon_0e^{-\\frac{E}{\\mu}t} \\newline\n",
    "\\end{equation*}\n",
    "\n",
    "Hence we get the relaxation function, $G(t)$ in,\n",
    "\\begin{equation*}\n",
    "\\sigma(t) = G(t)\\varepsilon_0\n",
    "\\end{equation*}"
   ]
  },
  {
   "cell_type": "code",
   "execution_count": 12,
   "metadata": {},
   "outputs": [
    {
     "data": {
      "text/plain": [
       "Text(0, 0.5, 'b=Stress, o=Strain')"
      ]
     },
     "execution_count": 12,
     "metadata": {},
     "output_type": "execute_result"
    },
    {
     "data": {
      "image/png": "[encoded data removed]",
      "text/plain": [
       "<Figure size 432x288 with 1 Axes>"
      ]
     },
     "metadata": {
      "needs_background": "light"
     },
     "output_type": "display_data"
    }
   ],
   "source": [
    "# Step function for general use (only approximate,no 0- and 0+)\n",
    "step_input = lambda x,steps : np.append(np.zeros(1),np.linspace(x,x,steps-1))\n",
    "# Stress relaxation function for Maxwell model\n",
    "maxwell_stress_lax = lambda e0,E,mu,t : E*e0*np.exp(-(E/mu)*t)\n",
    "# Abitrary parameter values\n",
    "e0 = 0.1\n",
    "E = 5\n",
    "mu = 4\n",
    "steps = 100\n",
    "t = np.linspace(0,10,steps)\n",
    "plt.plot(maxwell_stress_lax(e0,E,mu,t))\n",
    "plt.plot(step_input(e0,steps))\n",
    "plt.xlabel('time')\n",
    "plt.ylabel('b=Stress, o=Strain')"
   ]
  },
  {
   "cell_type": "markdown",
   "metadata": {},
   "source": [
    "## Strain creep ##\n",
    "\n",
    "For a constant stress step input the general dynamic Maxwell equation becomes:\n",
    "\n",
    "\\begin{equation*}\n",
    "q_1\\dot{\\varepsilon} = p_1\\sigma\n",
    "\\end{equation*}\n",
    "\n",
    "We integrate over $0^-$ to $t$ to get:\n",
    "\n",
    "\\begin{equation*}\n",
    "\\varepsilon(t) = \\frac{p_1}{q_1}\\sigma_0t + C_1\n",
    "\\end{equation*}\n",
    "\n",
    "Given the ICs previously found for the Stress relaxation:\n",
    "\\begin{equation*}\n",
    "\\varepsilon(t=0) = \\varepsilon_0 = \\frac{p_0}{q_1}\\sigma_0 = C_1 \\newline\n",
    "\\therefore \\varepsilon(t) = \\sigma_0(\\frac{1}{E}t + \\frac{1}{E}) \\newline\n",
    "\\end{equation*}\n",
    "\n",
    "We have the creep function, $J(t)$ in,\n",
    "\\begin{equation*}\n",
    "\\varepsilon(t) = J(t)\\sigma_0\n",
    "\\end{equation*}"
   ]
  },
  {
   "cell_type": "code",
   "execution_count": 5,
   "metadata": {
    "scrolled": true
   },
   "outputs": [
    {
     "data": {
      "text/plain": [
       "Text(0, 0.5, 'o=Stress, b=Strain')"
      ]
     },
     "execution_count": 5,
     "metadata": {},
     "output_type": "execute_result"
    },
    {
     "data": {
      "image/png": "[encoded data removed]",
      "text/plain": [
       "<Figure size 432x288 with 1 Axes>"
      ]
     },
     "metadata": {
      "needs_background": "light"
     },
     "output_type": "display_data"
    }
   ],
   "source": [
    "# Creep function\n",
    "maxwell_strain_creep = lambda s0,E,mu,t : s0*((1/E)*t+1/mu)\n",
    "# Abitrary parameter values\n",
    "s0 = 0.1\n",
    "E = 10\n",
    "mu = 10\n",
    "steps = 100\n",
    "t = np.linspace(0,10,steps)\n",
    "plt.plot(maxwell_strain_creep(s0,E,mu,t))\n",
    "plt.plot(step_input(s0,steps))\n",
    "plt.xlabel('time')\n",
    "plt.ylabel('o=Stress, b=Strain')"
   ]
  },
  {
   "cell_type": "markdown",
   "metadata": {},
   "source": [
    "The above plot shows that this model is not realistic for many materials, but good for materials near their melting point or in a gel or viscous liquid state."
   ]
  },
  {
   "cell_type": "markdown",
   "metadata": {},
   "source": [
    "# Kelvin-Voight Model #\n",
    "<figure>\n",
    "  <img src=\"pics\\kelvin-voight-sketch.png\" width=300>\n",
    "  <figcaption>Mechanical representation of the Kelvin-Voight model of a viscoelastic material with spring constant, $E$ and damping factor $\\mu$ in parallel configuration </figcaption>\n",
    "</figure>\n",
    "\n",
    "The governing dynamic equation for the Kelvin-Voight model:\n",
    "\\begin{equation*}\n",
    "F(t) = Eu(t) + \\mu \\dot{u}(t) \\newline\n",
    "\\therefore \\sigma(t) = E\\varepsilon(t) + \\mu\\dot{\\varepsilon}(t)\n",
    "\\end{equation*}"
   ]
  },
  {
   "cell_type": "markdown",
   "metadata": {},
   "source": [
    "## Stress relaxation ##\n",
    "\n",
    "For a constant strain step input the general dynamic Kelvin-Voight equation is integrated from $0^-$ to $0^+$ becomes:\n",
    "\n",
    "\\begin{equation*}\n",
    "\\sigma(t) = E\\varepsilon_0 + \\mu\\varepsilon_0\\delta(t) \\newline\n",
    "= \\varepsilon_0(E + \\mu\\delta(t))\n",
    "\\end{equation*}\n",
    "\n",
    "The dirac delta function is formed since the stress must have a finite area under its curve from $0^-$ to $0^+$ for the integral of $\\sigma(t)$\n",
    "\n",
    "Hence we get the relaxation function, $G(t)$ in,\n",
    "\\begin{equation*}\n",
    "\\sigma(t) = G(t)\\varepsilon_0\n",
    "\\end{equation*}"
   ]
  },
  {
   "cell_type": "code",
   "execution_count": 6,
   "metadata": {},
   "outputs": [
    {
     "data": {
      "text/plain": [
       "Text(0, 0.5, 'b=Stress, o=Strain')"
      ]
     },
     "execution_count": 6,
     "metadata": {},
     "output_type": "execute_result"
    },
    {
     "data": {
      "image/png": "[encoded data removed]",
      "text/plain": [
       "<Figure size 432x288 with 1 Axes>"
      ]
     },
     "metadata": {
      "needs_background": "light"
     },
     "output_type": "display_data"
    }
   ],
   "source": [
    "# Dirac delta function\n",
    "# dt = 2a -> where a is determines the width of the dirac delta function\n",
    "dirac = lambda t,dt : 2/(dt*np.sqrt(np.pi))*np.exp(-(2*t/dt)**2)\n",
    "# Relaxation function\n",
    "kv_stress_lax = lambda e0,E,mu,t : e0*(E + mu*dirac(t,t[1]))\n",
    "# Abitrary parameter values\n",
    "e0 = 0.1\n",
    "E = 10\n",
    "mu = 10\n",
    "steps = 100\n",
    "t = np.linspace(0,10,steps)\n",
    "\n",
    "plt.plot(kv_stress_lax(e0,E,mu,t))\n",
    "plt.plot(step_input(e0,steps))\n",
    "plt.xlabel('time')\n",
    "plt.ylabel('b=Stress, o=Strain')"
   ]
  },
  {
   "cell_type": "markdown",
   "metadata": {},
   "source": [
    "This gives an instantaneous stress relaxation for the step function transition as seen in the above plot."
   ]
  },
  {
   "cell_type": "markdown",
   "metadata": {},
   "source": [
    "## Strain creep ## \n",
    "For a constant stress step input the general dynamic Kelvin-Voight equation we get:\n",
    "\n",
    "\\begin{equation*}\n",
    "\\frac{\\sigma_0}{\\mu} = \\frac{E}{\\mu}\\varepsilon(t) + \\dot{\\varepsilon}(t)\n",
    "\\end{equation*}\n",
    "\n",
    "We solve this ODE to get:\n",
    "\\begin{equation*}\n",
    "\\varepsilon(t) = \\frac{\\sigma_0}{E} + C_1e^{-\\frac{E}{\\mu}t}\n",
    "\\end{equation*}\n",
    "\n",
    "Solving for $C_1$ about $t=0$:\n",
    "\\begin{equation*}\n",
    "\\varepsilon(t=0) \\rightarrow C_1 = -\\frac{\\sigma_0}{E} \\newline\n",
    "\\therefore \\varepsilon(t) = \\frac{\\sigma_0}{E}(1 - e^{-\\frac{E}{\\mu}t})\n",
    "\\end{equation*}\n",
    "\n",
    "Hence we get a creep function $J(t)$,\n",
    "\\begin{equation*}\n",
    "\\varepsilon(t) = J(t)\\sigma_0\n",
    "\\end{equation*}"
   ]
  },
  {
   "cell_type": "code",
   "execution_count": 7,
   "metadata": {},
   "outputs": [
    {
     "data": {
      "text/plain": [
       "Text(0, 0.5, 'o=Stress, b=Strain')"
      ]
     },
     "execution_count": 7,
     "metadata": {},
     "output_type": "execute_result"
    },
    {
     "data": {
      "image/png": "[encoded data removed]",
      "text/plain": [
       "<Figure size 432x288 with 1 Axes>"
      ]
     },
     "metadata": {
      "needs_background": "light"
     },
     "output_type": "display_data"
    }
   ],
   "source": [
    "# Creep function\n",
    "kv_strain_creep = lambda s0,E,mu,t : (s0/E)*(1-np.exp(-(E/mu)*t))\n",
    "# Abitrary parameter values\n",
    "s0 = 0.1\n",
    "E = 1\n",
    "mu = 2\n",
    "steps = 100\n",
    "t = np.linspace(0,10,steps)\n",
    "plt.plot(kv_strain_creep(s0,E,mu,t))\n",
    "plt.plot(step_input(s0,steps))\n",
    "plt.xlabel('time')\n",
    "plt.ylabel('o=Stress, b=Strain')"
   ]
  },
  {
   "cell_type": "markdown",
   "metadata": {},
   "source": [
    "# Other models #\n",
    "There are many other models which can be used for viscoelastic dynamics, which contain variation of springs and dashpots connected in series and parallel. One key example is the Burger creep and relaxation models:\n",
    "<figure>\n",
    "  <img src=\"pics\\burger-creep-sketch.jpg\" width=300>\n",
    "  <img src=\"pics\\burger-relax-sketch.jpg\" width=300>\n",
    "  <figcaption>Mechanical representation of the Burger model of a viscoelastic material with spring constants, $E$ and damping factors $\\mu$. Left: Burger creep representation. Right: Burger relaxation representation.\n",
    "    </figcaption>\n",
    "</figure>"
   ]
  },
  {
   "cell_type": "markdown",
   "metadata": {},
   "source": [
    "# Generalised viscoelastic constitutive model and the Boltzmann superposition principle #\n",
    " We now know that viscolelastic materials have an effective strain creep and stress relaxation in response to a stress and strain input respectively. Under the hypothesis that the complete strain or stress history up to time t is related to the state at time $\\tau$ is shown in the following equations:\n",
    "\n",
    "\\begin{equation*}\n",
    "\\varepsilon(t) = \\int_{0^-}^tJ(t-\\tau)d\\sigma(\\tau)=\\sigma(0^+)J(t)+\\int_0^tJ(t-\\tau)\\frac{d}{d\\tau}\\sigma(\\tau)d\\tau \\newline\n",
    "\\sigma(t) = \\int_{0^-}^tG(t-\\tau)d\\varepsilon(\\tau)=\\varepsilon(0^+)G(t)+\\int_0^tG(t-\\tau)\\frac{d}{d\\tau}\\varepsilon(\\tau)d\\tau\n",
    "\\end{equation*}\n",
    "\n"
   ]
  },
  {
   "cell_type": "markdown",
   "metadata": {},
   "source": [
    "The repsonse of a material to a given load is independent of the response of the material to any load which is already applied on the material, and is shown with the plot below:\n",
    "<figure>\n",
    "  <img src=\"pics\\boltzmann-superposition-sketch.png\" width=400>\n",
    "  <figcaption> Boltzmann superposition principle\n",
    "    </figcaption>\n",
    "</figure>"
   ]
  },
  {
   "cell_type": "code",
   "execution_count": 10,
   "metadata": {},
   "outputs": [
    {
     "data": {
      "text/plain": [
       "Text(0, 0.5, 'r=Stress, b=Strain')"
      ]
     },
     "execution_count": 10,
     "metadata": {},
     "output_type": "execute_result"
    },
    {
     "data": {
      "image/png": "[encoded data removed]",
      "text/plain": [
       "<Figure size 432x288 with 1 Axes>"
      ]
     },
     "metadata": {
      "needs_background": "light"
     },
     "output_type": "display_data"
    }
   ],
   "source": [
    "# Creep function\n",
    "kv_strain_super_creep = lambda s0,E,mu,tau,t : (s0/E)*(1-np.exp(-(E/mu)*(tau-t))) # change this to match above equation\n",
    "# Abitrary parameter values\n",
    "s0 = [0.1,0.2,0.3]\n",
    "tau = [20,40,60]\n",
    "E = 1\n",
    "mu = 2\n",
    "steps = 100\n",
    "t = np.linspace(0,10,steps)\n",
    "for i in range(len(s0)):\n",
    "    plt.plot(kv_strain_super_creep(s0[i],E,mu,tau[i],t),'b-')\n",
    "    plt.plot(step_input(s0[i],steps),'r-')\n",
    "plt.xlabel('time')\n",
    "plt.ylabel('r=Stress, b=Strain')"
   ]
  },
  {
   "cell_type": "code",
   "execution_count": null,
   "metadata": {},
   "outputs": [],
   "source": []
  },
  {
   "cell_type": "code",
   "execution_count": null,
   "metadata": {},
   "outputs": [],
   "source": []
  },
  {
   "cell_type": "code",
   "execution_count": null,
   "metadata": {},
   "outputs": [],
   "source": []
  },
  {
   "cell_type": "code",
   "execution_count": null,
   "metadata": {},
   "outputs": [],
   "source": []
  }
 ],
 "metadata": {
  "kernelspec": {
   "display_name": "Python 3",
   "language": "python",
   "name": "python3"
  },
  "language_info": {
   "codemirror_mode": {
    "name": "ipython",
    "version": 3
   },
   "file_extension": ".py",
   "mimetype": "text/x-python",
   "name": "python",
   "nbconvert_exporter": "python",
   "pygments_lexer": "ipython3",
   "version": "3.8.5"
  }
 },
 "nbformat": 4,
 "nbformat_minor": 4
}
