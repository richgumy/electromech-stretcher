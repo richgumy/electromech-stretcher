{
 "cells": [
  {
   "cell_type": "markdown",
   "metadata": {},
   "source": [
    "# FFT on the stretching data\n",
    "\n",
    "To ensure there was no low frequency noise on the data being gathered by the load cell in the electromechanical stretcher device a fast fourier transform was performed on the data.\n",
    "<figure>\n",
    "  <img src=\"pics\\force_fft_plot.png\" width=300>\n",
    "  <figcaption>FFT on one set of stretchin data, with an arbitrary magnitude on the y axis and frequency in Hz on the x-axis. </figcaption>\n",
    "</figure>\n",
    "\n",
    "The FFT data above shows a large spike close to 'DC' (0Hz) which makes sense as there is a DC offset of the data and also there was a pulse train seen in the data with a period of 120s and hence fundamental frequency of 0.0083 Hz. Which explains the small peak seen just above 0Hz.\n",
    "\n",
    "Unsure of the peak near 3.4Hz -> this could be de to the irregular sampling of the data, where every 5th data point looks like its missing.\n",
    "\n",
    "A major issue with using this data is that the average sample frequency, $F_s$ of the data is 7Hz so to avoid aliasing issues the plot uses upto the Nyquist frequency, $F_n = F_s/2$. More data will need to be gathered at a much higher sample rate to obtain a more useful result. Ideally we would like to see if 50Hz is having an effect as well as the potential higher frequency noise of adjacent circuitry and measurement wires."
   ]
  },
  {
   "cell_type": "code",
   "execution_count": null,
   "metadata": {},
   "outputs": [],
   "source": []
  }
 ],
 "metadata": {
  "kernelspec": {
   "display_name": "Python 3",
   "language": "python",
   "name": "python3"
  },
  "language_info": {
   "codemirror_mode": {
    "name": "ipython",
    "version": 3
   },
   "file_extension": ".py",
   "mimetype": "text/x-python",
   "name": "python",
   "nbconvert_exporter": "python",
   "pygments_lexer": "ipython3",
   "version": "3.8.2"
  }
 },
 "nbformat": 4,
 "nbformat_minor": 4
}
