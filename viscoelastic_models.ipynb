{
 "cells": [
  {
   "cell_type": "markdown",
   "metadata": {},
   "source": [
    "# Viscoelasticity\n",
    "\n",
    "FILE: viscoelastic_models.ipynb\n",
    "\n",
    "AUTHOR: R Ellingham\n",
    "\n",
    "DATE: Nov 2020\n",
    "\n",
    "PROGRAM DESC: \n",
    "This document looks at the basic theory behind viscoelasticity, with the intention of using this theory to model a carbon-black silicone rubber comoposite. The document will be broken down into sections:\n",
    "\n",
    "TODO:\n",
    "* ...\n",
    "* ...\n",
    "\n",
    "*Part 1*\n",
    "* General overview of viscoelasticity\n",
    "* Maxwell models\n",
    "* Kelvin-Voight models\n",
    "* Generalised viscoelastic constitutive models\n",
    "* Quasi-linear viscoelastic model\n",
    "* How to fit these models to experimental data\n",
    "\n",
    "*Part 2*\n",
    "* Macro vs. micro modelling of viscoelasticity\n",
    "\n",
    "*Part 3*\n",
    "* Percolation modelling\n",
    "* Composite resistivity modelling"
   ]
  },
  {
   "cell_type": "code",
   "execution_count": 9,
   "metadata": {},
   "outputs": [
    {
     "ename": "SyntaxError",
     "evalue": "invalid syntax (<ipython-input-9-353b06b0492d>, line 6)",
     "output_type": "error",
     "traceback": [
      "\u001b[1;36m  File \u001b[1;32m\"<ipython-input-9-353b06b0492d>\"\u001b[1;36m, line \u001b[1;32m6\u001b[0m\n\u001b[1;33m    8from matplotlib import cm # colour map\u001b[0m\n\u001b[1;37m     ^\u001b[0m\n\u001b[1;31mSyntaxError\u001b[0m\u001b[1;31m:\u001b[0m invalid syntax\n"
     ]
    }
   ],
   "source": [
    "## import libraries\n",
    "import csv\n",
    "import matplotlib.pyplot as plt\n",
    "from mpl_toolkits.mplot3d import Axes3D\n",
    "from matplotlib.ticker import MaxNLocator\n",
    "from matplotlib import cm # colour map\n",
    "import numpy as np\n",
    "from scipy import optimize"
   ]
  },
  {
   "cell_type": "markdown",
   "metadata": {},
   "source": [
    "## General overview\n",
    "\n",
    "A viscoelastic material displays a loss of energy when ungoing a stress loading and unloading condition. This loss of energy is due to the damping (or viscous) properties of the material as opposed to an ideal elastic material which stores the strain energy as elastic energy. \n",
    "\n",
    "<img src=stress-strain-hysteresis-curve.PNG width=400>\n",
    "\n",
    "This viscoelastiv behavious is desriable for use in systems which require damping and shock absorption, such as in car suspension systems, shipping packing materials and running shoes.\n",
    "\n",
    "There are two key characteristics of viscoelastic materials, stress relaxation and strain creep.\n",
    "\n",
    "*Stress relaxation* and *Strain creep* are the time dependent stress and strain responses to a step input of strain and stress on a material, respectively.\n",
    "\n",
    "<figure>\n",
    "  <img src=\"relaxation-sketch.PNG\" width=300>\n",
    "  <figcaption>Stress relaxation curve</figcaption>\n",
    "  <img src=\"Creep-sketch.PNG\" width=300>\n",
    "  <figcaption>Strain creep curve</figcaption>\n",
    "</figure>"
   ]
  },
  {
   "cell_type": "markdown",
   "metadata": {},
   "source": [
    "# Maxwell Model #\n",
    "<figure>\n",
    "  <img src=\"maxwell-sketch.PNG\" width=300>\n",
    "  <figcaption>Mechanical representation of the Maxwell model of a viscoelastic material with spring constant, $E$ and damping factor $\\mu$</figcaption>\n",
    "</figure>\n",
    "\n",
    "\\begin{equation*}\n",
    "\\dot{u}(t)=\\frac{\\dot{F_s}(t)}{E}+\\frac{F_d(t)}{\\mu} \\newline\n",
    "\\therefore q_1\\dot{\\varepsilon} = p_0\\dot{\\sigma}+p_1\\sigma\n",
    "\\end{equation*}\n",
    "\n",
    "Where $u(t)$, $F_s$ and $F_d$ are the overall stretch, spring force, and dashpot force respectively. $q_1, p_0, and p_1$ are all constants relating to the elasticity and damping parameters of the material.\n",
    "\n",
    "\\begin{equation*}\n",
    "q_1 = 1 \\rightarrow Dim = 1 \\newline\n",
    "p_1 = \\frac{1}{\\mu} \\rightarrow Dim = \\frac{[m]}{[N][s]} \\newline\n",
    "p_0 = \\frac{1}{E} \\rightarrow Dim = \\frac{[m]}{[N]}\n",
    "\\end{equation*}\n"
   ]
  },
  {
   "cell_type": "markdown",
   "metadata": {},
   "source": [
    "## Stress relaxation ##\n",
    "\n",
    "For a constant strain step input the general dynamic Maxwell equation becomes:\n",
    "\n",
    "\\begin{equation*}\n",
    "0 = \\dot{\\sigma} + \\frac{p_1}{p_0}\\sigma\n",
    "\\end{equation*}\n",
    "\n",
    "The solution for this $1^{st}$ order ODE is:\n",
    "\n",
    "\\begin{equation*}\n",
    "\\sigma = C_1e^{-\\frac{p_1}{p_0}t}\n",
    "\\end{equation*}\n",
    "\n",
    "To solve for $C_1$ we integrate equation (1) from $t=0^-$ to $t=0^+$ and obtain:\n",
    "\n",
    "\\begin{equation*}\n",
    "\\sigma(t=0) = \\sigma_0 = C_1 = \\frac{q_1}{p_0}\\varepsilon_0 = E\\varepsilon_0 \\newline\n",
    "\\therefore \\sigma(t) = E\\varepsilon_0e^{-\\frac{E}{\\mu}t}\n",
    "\\end{equation*}"
   ]
  },
  {
   "cell_type": "code",
   "execution_count": 38,
   "metadata": {},
   "outputs": [
    {
     "data": {
      "text/plain": [
       "Text(0, 0.5, 'b=Stress, o=Strain')"
      ]
     },
     "execution_count": 38,
     "metadata": {},
     "output_type": "execute_result"
    },
    {
     "data": {
      "image/png": "[encoded data removed]",
      "text/plain": [
       "<Figure size 432x288 with 1 Axes>"
      ]
     },
     "metadata": {
      "needs_background": "light"
     },
     "output_type": "display_data"
    }
   ],
   "source": [
    "# Step function for general use (only approximate,no 0- and 0+)\n",
    "step_input = lambda x,steps : np.append(np.zeros(1),np.linspace(x,x,steps))\n",
    "# Stress relaxation function for Maxwell model\n",
    "maxwell_stress_lax = lambda e0,E,mu,t : E*e0*np.exp(-(E/mu)*t)\n",
    "e0 = 0.1\n",
    "E = 1.5\n",
    "mu = 4\n",
    "steps = 100\n",
    "t = np.linspace(0,10,steps)\n",
    "plt.plot(maxwell_stress_lax(e0,E,mu,t))\n",
    "plt.plot(step_input(e0,steps))\n",
    "plt.xlabel('time')\n",
    "plt.ylabel('b=Stress, o=Strain')"
   ]
  },
  {
   "cell_type": "markdown",
   "metadata": {},
   "source": [
    "## Strain creep ##\n",
    "\n",
    "For a constant stress step input the general dynamic Maxwell equation becomes:\n",
    "\n",
    "\\begin{equation*}\n",
    "q_1\\dot{\\varepsilon} = p_1\\sigma\n",
    "\\end{equation*}\n",
    "\n",
    "We integrate over $0^-$ to $t$ to get:\n",
    "\n",
    "\\begin{equation*}\n",
    "\\varepsilon(t) = \\frac{p_1}{q_1}\\sigma_0t + C_1\n",
    "\\end{equation*}\n",
    "\n",
    "Given the ICs previously found for the Stress relaxation:\n",
    "\\begin{equation*}\n",
    "\\varepsilon(t=0) = \\varepsilon_0 = \\frac{p_0}{q_1}\\sigma_0 = C_1\n",
    "\\therefore \\varepsilon\n",
    "\\end{equation*}"
   ]
  },
  {
   "cell_type": "markdown",
   "metadata": {},
   "source": [
    "# Kelvin-Voight Model #\n",
    "<figure>\n",
    "  <img src=\"kelvin-voight-sketch.PNG\" width=300>\n",
    "  <figcaption>Mechanical representation of the Kelvin-Voight model</figcaption>\n",
    "</figure>"
   ]
  },
  {
   "cell_type": "code",
   "execution_count": null,
   "metadata": {},
   "outputs": [],
   "source": []
  }
 ],
 "metadata": {
  "kernelspec": {
   "display_name": "Python 3",
   "language": "python",
   "name": "python3"
  },
  "language_info": {
   "codemirror_mode": {
    "name": "ipython",
    "version": 3
   },
   "file_extension": ".py",
   "mimetype": "text/x-python",
   "name": "python",
   "nbconvert_exporter": "python",
   "pygments_lexer": "ipython3",
   "version": "3.8.5"
  }
 },
 "nbformat": 4,
 "nbformat_minor": 4
}
